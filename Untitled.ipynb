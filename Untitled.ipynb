{
 "cells": [
  {
   "cell_type": "markdown",
   "metadata": {},
   "source": [
    "# Roadmap vi-info-gen\n",
    "\n",
    "Финальный срок: `31.08.2019`\n",
    "\n",
    "## Документация\n",
    "| Done | Task | Term | Status |\n",
    "| ---- | ---- | ---- | ------ |\n",
    "| [x] | Добавить скелет документации ОГЭ | `30.06.2019` | [Добавил](../docs/tasks/oge) |\n",
    "| [] | Добавить задачи из демо варианта | `07.07.2019` | Добавил 1, 2 задачи |\n",
    "| [] | Придумать новые задачи по спецификации | `07.2019` |  |\n",
    "| [] | Все то же самое с ЕГЭ | ? | ? |\n",
    "\n",
    "## Технические детали\n",
    "| Done | Task | Term | Status |\n",
    "| ---- | ---- | ---- | ------ |\n",
    "| [] | Проработать поля таблицы БД | `07.07.2019` | <ul><li>Перенести идеи сюда</li><li>Согласовать с @vi_motyl</li></ul> |\n",
    "| [] | Проработать формат хранения доп файлов для заданий | `07.07.2019` | <ul><li>Перенести идеи сюда</li><li>Согласовать с @vi_motyl</li></ul>  |\n",
    "| [] | Сохранить бэкап старой [версии](http://vi-info.herokuapp.com/) | `07.07.2019` |  |\n",
    "\n",
    "## Реализация\n",
    "| Done | Task | Term | Status |\n",
    "| ---- | ---- | ---- | ------ |\n",
    "| [] | Добавить новый функционал для выгрузки в БД | `07-14.07.2019` |  |\n",
    "| [] | Добавить новые задачи | После ревью [docs](../docs/tasks/oge) от @vi_motyl | |\n"
   ]
  },
  {
   "cell_type": "markdown",
   "metadata": {},
   "source": [
    "# [ОГЭ](./tasks/oge)\n",
    "1. [Объем текстовых данных](./tasks/oge/oge1.md) []\n",
    "   1. [название_типа](./tasks/oge/oge1.md#ОГЭ-1-1) []\n",
    "      1. [название_подтипа](./tasks/oge/oge1.md#ОГЭ-1-1-1) []\n",
    "      2. [название_подтипа_2](./tasks/oge/oge1.md#ОГЭ-1-1-2) []\n",
    "2. [Объем текстовых данных](./tasks/oge/oge2.md) []\n",
    "   1. [название_типа](./tasks/oge/oge2.md#ОГЭ-2-1) []\n",
    "      1. [название_подтипа](./tasks/oge/oge2.md#ОГЭ-2-1-1) []\n",
    "      2. [название_подтипа_2](./tasks/oge/oge2.md#ОГЭ-2-1-2) []"
   ]
  },
  {
   "cell_type": "code",
   "execution_count": null,
   "metadata": {},
   "outputs": [],
   "source": []
  }
 ],
 "metadata": {
  "kernelspec": {
   "display_name": "Python 3",
   "language": "python",
   "name": "python3"
  },
  "language_info": {
   "codemirror_mode": {
    "name": "ipython",
    "version": 3
   },
   "file_extension": ".py",
   "mimetype": "text/x-python",
   "name": "python",
   "nbconvert_exporter": "python",
   "pygments_lexer": "ipython3",
   "version": "3.6.6"
  }
 },
 "nbformat": 4,
 "nbformat_minor": 2
}
